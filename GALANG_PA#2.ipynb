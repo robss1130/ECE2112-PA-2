{
 "cells": [
  {
   "cell_type": "markdown",
   "id": "da83c461-3013-4f65-9b32-6661586cea1a",
   "metadata": {},
   "source": [
    "**Import the NumPy library to use its pre existing functions**"
   ]
  },
  {
   "cell_type": "code",
   "execution_count": 3,
   "id": "c6e77778-ee00-4c27-95ab-e9584037da75",
   "metadata": {},
   "outputs": [],
   "source": [
    "import numpy as np"
   ]
  },
  {
   "cell_type": "markdown",
   "id": "9b947af5-291c-4c5e-97ae-ce76c304caa4",
   "metadata": {},
   "source": [
    "**Create a random 5 x 5 ndarray and store it to variable X. Normalize X. Save your normalized\n",
    "ndarray as X_normalized.npy**"
   ]
  },
  {
   "cell_type": "code",
   "execution_count": 5,
   "id": "ef6ab0a9-526c-47d2-819d-0b7ea98c409e",
   "metadata": {},
   "outputs": [],
   "source": [
    "#Create a 5 x 5 array that will generate random values as its elements\n",
    "X = np.random.rand(5, 5)"
   ]
  },
  {
   "cell_type": "code",
   "execution_count": 6,
   "id": "d5eef875-dbef-466e-84cb-9288fb5ed887",
   "metadata": {},
   "outputs": [],
   "source": [
    "#Use the formula stated in the problem sheet to setup the logic\n",
    "\n",
    "#use np.mean() to get the mean of X andd np.std() for the standard deviation\n",
    "Y = np.mean(X)\n",
    "Z = np.std(X)"
   ]
  },
  {
   "cell_type": "code",
   "execution_count": 7,
   "id": "a176dde3-38f6-4f38-9aba-f03f1b42afb6",
   "metadata": {},
   "outputs": [
    {
     "data": {
      "text/plain": [
       "array([[ 0.5526046 ,  0.12726316, -0.80001875,  1.06229414,  0.78735574],\n",
       "       [ 0.56284122,  0.67926844,  1.35676258,  1.47395034,  0.36965874],\n",
       "       [-1.23921927,  1.73569177, -0.72257318,  1.4522174 , -0.78393103],\n",
       "       [-1.3031662 , -0.55957444, -0.5892481 , -0.52887628, -1.12697151],\n",
       "       [-1.09974771, -1.51764196,  1.22593217, -0.66356238, -0.45130949]])"
      ]
     },
     "execution_count": 7,
     "metadata": {},
     "output_type": "execute_result"
    }
   ],
   "source": [
    "#Setup the equation\n",
    "\n",
    "Normalized = (X - Y) / Z\n",
    "Normalized"
   ]
  },
  {
   "cell_type": "code",
   "execution_count": 8,
   "id": "62874160-e886-45cc-9e2f-2b4ac8364080",
   "metadata": {},
   "outputs": [],
   "source": [
    "#Save the normalized ndarray using the np.save function\n",
    "np.save('X_normalized.npy', Normalized)"
   ]
  },
  {
   "cell_type": "markdown",
   "id": "bcd0c774-84ce-4545-b7d6-f7c24fafacd0",
   "metadata": {},
   "source": [
    "**Create a 10 x 10 ndarray, containing the square of the square of the first 100 integers**"
   ]
  },
  {
   "cell_type": "code",
   "execution_count": 10,
   "id": "58a711ae-b0ca-44e2-83a1-30d08e5a285c",
   "metadata": {},
   "outputs": [
    {
     "data": {
      "text/plain": [
       "array([    1,     4,     9,    16,    25,    36,    49,    64,    81,\n",
       "         100,   121,   144,   169,   196,   225,   256,   289,   324,\n",
       "         361,   400,   441,   484,   529,   576,   625,   676,   729,\n",
       "         784,   841,   900,   961,  1024,  1089,  1156,  1225,  1296,\n",
       "        1369,  1444,  1521,  1600,  1681,  1764,  1849,  1936,  2025,\n",
       "        2116,  2209,  2304,  2401,  2500,  2601,  2704,  2809,  2916,\n",
       "        3025,  3136,  3249,  3364,  3481,  3600,  3721,  3844,  3969,\n",
       "        4096,  4225,  4356,  4489,  4624,  4761,  4900,  5041,  5184,\n",
       "        5329,  5476,  5625,  5776,  5929,  6084,  6241,  6400,  6561,\n",
       "        6724,  6889,  7056,  7225,  7396,  7569,  7744,  7921,  8100,\n",
       "        8281,  8464,  8649,  8836,  9025,  9216,  9409,  9604,  9801,\n",
       "       10000])"
      ]
     },
     "execution_count": 10,
     "metadata": {},
     "output_type": "execute_result"
    }
   ],
   "source": [
    "#Create an array of the square of the first 100 integers\n",
    "X = np.arange(1, 101) ** 2\n",
    "X"
   ]
  },
  {
   "cell_type": "code",
   "execution_count": 11,
   "id": "cf94b055-f1a9-4edc-ae39-a73d6e9a4029",
   "metadata": {},
   "outputs": [
    {
     "data": {
      "text/plain": [
       "array([[    1,     4,     9,    16,    25,    36,    49,    64,    81,\n",
       "          100],\n",
       "       [  121,   144,   169,   196,   225,   256,   289,   324,   361,\n",
       "          400],\n",
       "       [  441,   484,   529,   576,   625,   676,   729,   784,   841,\n",
       "          900],\n",
       "       [  961,  1024,  1089,  1156,  1225,  1296,  1369,  1444,  1521,\n",
       "         1600],\n",
       "       [ 1681,  1764,  1849,  1936,  2025,  2116,  2209,  2304,  2401,\n",
       "         2500],\n",
       "       [ 2601,  2704,  2809,  2916,  3025,  3136,  3249,  3364,  3481,\n",
       "         3600],\n",
       "       [ 3721,  3844,  3969,  4096,  4225,  4356,  4489,  4624,  4761,\n",
       "         4900],\n",
       "       [ 5041,  5184,  5329,  5476,  5625,  5776,  5929,  6084,  6241,\n",
       "         6400],\n",
       "       [ 6561,  6724,  6889,  7056,  7225,  7396,  7569,  7744,  7921,\n",
       "         8100],\n",
       "       [ 8281,  8464,  8649,  8836,  9025,  9216,  9409,  9604,  9801,\n",
       "        10000]])"
      ]
     },
     "execution_count": 11,
     "metadata": {},
     "output_type": "execute_result"
    }
   ],
   "source": [
    "#Reshape the array into a 10 x 10\n",
    "X = X.reshape(10, 10)\n",
    "X"
   ]
  },
  {
   "cell_type": "code",
   "execution_count": 12,
   "id": "41271f6b-7500-451d-b366-65bab434b1b3",
   "metadata": {},
   "outputs": [
    {
     "data": {
      "text/plain": [
       "array([   9,   36,   81,  144,  225,  324,  441,  576,  729,  900, 1089,\n",
       "       1296, 1521, 1764, 2025, 2304, 2601, 2916, 3249, 3600, 3969, 4356,\n",
       "       4761, 5184, 5625, 6084, 6561, 7056, 7569, 8100, 8649, 9216, 9801])"
      ]
     },
     "execution_count": 12,
     "metadata": {},
     "output_type": "execute_result"
    }
   ],
   "source": [
    "#Use the module operator to set up a logic and determine which elements are divisible by 3\n",
    "divisible = X[X % 3 == 0]\n",
    "divisible"
   ]
  },
  {
   "cell_type": "code",
   "execution_count": 13,
   "id": "61b94cf8-c36d-4769-9496-b7d699bcd4ec",
   "metadata": {},
   "outputs": [],
   "source": [
    "#Save the ndarray into 'div_by_3.npy'\n",
    "np.save('div_by_3.npy', divisible)"
   ]
  },
  {
   "cell_type": "code",
   "execution_count": null,
   "id": "f057ad97-cc6b-432b-b26c-4882410d474e",
   "metadata": {},
   "outputs": [],
   "source": []
  }
 ],
 "metadata": {
  "kernelspec": {
   "display_name": "Python 3 (ipykernel)",
   "language": "python",
   "name": "python3"
  },
  "language_info": {
   "codemirror_mode": {
    "name": "ipython",
    "version": 3
   },
   "file_extension": ".py",
   "mimetype": "text/x-python",
   "name": "python",
   "nbconvert_exporter": "python",
   "pygments_lexer": "ipython3",
   "version": "3.12.4"
  }
 },
 "nbformat": 4,
 "nbformat_minor": 5
}
