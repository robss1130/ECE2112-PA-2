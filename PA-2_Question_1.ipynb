{
 "cells": [
  {
   "cell_type": "markdown",
   "id": "da83c461-3013-4f65-9b32-6661586cea1a",
   "metadata": {},
   "source": [
    "Import the NumPy library to use its pre existing functions"
   ]
  },
  {
   "cell_type": "code",
   "execution_count": 26,
   "id": "c6e77778-ee00-4c27-95ab-e9584037da75",
   "metadata": {},
   "outputs": [],
   "source": [
    "import numpy as np"
   ]
  },
  {
   "cell_type": "markdown",
   "id": "9b947af5-291c-4c5e-97ae-ce76c304caa4",
   "metadata": {},
   "source": [
    "**Create a random 5 x 5 ndarray and store it to variable X. Normalize X. Save your normalized\n",
    "ndarray as X_normalized.npy**"
   ]
  },
  {
   "cell_type": "code",
   "execution_count": 28,
   "id": "ef6ab0a9-526c-47d2-819d-0b7ea98c409e",
   "metadata": {},
   "outputs": [],
   "source": [
    "#Create a 5 x 5 array that will generate random values as its elements\n",
    "X = np.random.rand(5, 5)"
   ]
  },
  {
   "cell_type": "code",
   "execution_count": 30,
   "id": "d5eef875-dbef-466e-84cb-9288fb5ed887",
   "metadata": {},
   "outputs": [],
   "source": [
    "#Use the formula stated in the problem sheet to setup the logic\n",
    "\n",
    "#use np.mean() to get the mean of X andd np.std() for the standard deviation\n",
    "Y = np.mean(X)\n",
    "Z = np.std(X)"
   ]
  },
  {
   "cell_type": "code",
   "execution_count": 32,
   "id": "a176dde3-38f6-4f38-9aba-f03f1b42afb6",
   "metadata": {},
   "outputs": [
    {
     "data": {
      "text/plain": [
       "array([[ 0.7821522 ,  0.62601433, -1.07293018,  0.85736336, -1.07048827],\n",
       "       [-0.37983143, -0.91255969, -1.24083613, -0.87319553,  1.54523442],\n",
       "       [-0.78257284,  1.00186498,  1.02961863, -1.09416706,  0.02139934],\n",
       "       [ 1.03016194, -0.59251488,  1.25214047,  1.71299064, -0.54366565],\n",
       "       [-0.9795084 ,  1.47139314, -0.48098923,  0.05470358, -1.36177775]])"
      ]
     },
     "execution_count": 32,
     "metadata": {},
     "output_type": "execute_result"
    }
   ],
   "source": [
    "#Setup the equation\n",
    "\n",
    "Normalized = (X - Y) / Z\n",
    "Normalized"
   ]
  },
  {
   "cell_type": "code",
   "execution_count": 34,
   "id": "62874160-e886-45cc-9e2f-2b4ac8364080",
   "metadata": {},
   "outputs": [],
   "source": [
    "#Save the normalized ndarray using the np.save function\n",
    "np.save('X_normalized.npy', Normalized)"
   ]
  },
  {
   "cell_type": "code",
   "execution_count": null,
   "id": "2a1acc6c-dc3f-42aa-b8a1-866bc35ace54",
   "metadata": {},
   "outputs": [],
   "source": []
  }
 ],
 "metadata": {
  "kernelspec": {
   "display_name": "Python 3 (ipykernel)",
   "language": "python",
   "name": "python3"
  },
  "language_info": {
   "codemirror_mode": {
    "name": "ipython",
    "version": 3
   },
   "file_extension": ".py",
   "mimetype": "text/x-python",
   "name": "python",
   "nbconvert_exporter": "python",
   "pygments_lexer": "ipython3",
   "version": "3.12.4"
  }
 },
 "nbformat": 4,
 "nbformat_minor": 5
}
